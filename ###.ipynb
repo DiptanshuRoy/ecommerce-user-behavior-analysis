{
 "cells": [
  {
   "cell_type": "markdown",
   "id": "b530317f",
   "metadata": {},
   "source": [
    "# E-commerce User Behavior Analysis\n",
    "\n",
    "This project explores user interaction data from a multi-category e-commerce store to understand browsing, carting, and purchasing behavior.\n",
    "\n",
    "### Objectives\n",
    "- Analyze customer flow: view → cart → purchase\n",
    "- Identify popular categories and peak activity times\n",
    "- Clean and structure data for reliable insights\n",
    "- Visualize user behavior with meaningful charts\n",
    "\n",
    "### Dataset\n",
    "- *Source:* Kaggle (9.1 GB, sample of 5_000_000 rows used)\n",
    "- *Key Columns:* event_time, event_type, category_code, brand, price\n",
    "\n",
    "### Tools\n",
    "- pandas, seaborn, matplotlib\n",
    "- Jupyter Notebook for analysis"
   ]
  },
  {
   "cell_type": "code",
   "execution_count": 1,
   "id": "0cdee46e",
   "metadata": {},
   "outputs": [],
   "source": [
    "#importing necessary libraries and loading the dataset\n",
    "\n",
    "\n",
    "import pandas as pd\n",
    "import numpy as np\n",
    "import seaborn as sns\n",
    "import matplotlib.pyplot as plt\n",
    "import os\n",
    "\n",
    "# Read only the required columns and limit rows to avoid MemoryError\n",
    "df = pd.read_csv('2019-Nov.csv', nrows=5_000_000)\n",
    "# Downcast int64 columns to int8 and float64 columns to float32 \n",
    "for col in df.select_dtypes(include=['int64']).columns:\n",
    "    df[col] = pd.to_numeric(df[col], downcast='integer')\n",
    "for col in df.select_dtypes(include=['float64']).columns:\n",
    "    df[col] = pd.to_numeric(df[col], downcast='float')\n",
    "df.to_parquet('2019-Nov.parquet')"
   ]
  },
  {
   "cell_type": "code",
   "execution_count": 2,
   "id": "fc8a10f5",
   "metadata": {},
   "outputs": [],
   "source": [
    "# I am using the parquet file for further analysis to save memory and speed up processing\n",
    "\n",
    "df = pd.read_parquet('2019-Nov.parquet')\n",
    "\n"
   ]
  },
  {
   "cell_type": "code",
   "execution_count": 3,
   "id": "cfb0892a",
   "metadata": {},
   "outputs": [
    {
     "data": {
      "text/html": [
       "<div>\n",
       "<style scoped>\n",
       "    .dataframe tbody tr th:only-of-type {\n",
       "        vertical-align: middle;\n",
       "    }\n",
       "\n",
       "    .dataframe tbody tr th {\n",
       "        vertical-align: top;\n",
       "    }\n",
       "\n",
       "    .dataframe thead th {\n",
       "        text-align: right;\n",
       "    }\n",
       "</style>\n",
       "<table border=\"1\" class=\"dataframe\">\n",
       "  <thead>\n",
       "    <tr style=\"text-align: right;\">\n",
       "      <th></th>\n",
       "      <th>event_time</th>\n",
       "      <th>event_type</th>\n",
       "      <th>product_id</th>\n",
       "      <th>category_id</th>\n",
       "      <th>category_code</th>\n",
       "      <th>brand</th>\n",
       "      <th>price</th>\n",
       "      <th>user_id</th>\n",
       "      <th>user_session</th>\n",
       "    </tr>\n",
       "  </thead>\n",
       "  <tbody>\n",
       "    <tr>\n",
       "      <th>0</th>\n",
       "      <td>2019-11-01 00:00:00 UTC</td>\n",
       "      <td>view</td>\n",
       "      <td>1003461</td>\n",
       "      <td>2053013555631882655</td>\n",
       "      <td>electronics.smartphone</td>\n",
       "      <td>xiaomi</td>\n",
       "      <td>489.070007</td>\n",
       "      <td>520088904</td>\n",
       "      <td>4d3b30da-a5e4-49df-b1a8-ba5943f1dd33</td>\n",
       "    </tr>\n",
       "    <tr>\n",
       "      <th>1</th>\n",
       "      <td>2019-11-01 00:00:00 UTC</td>\n",
       "      <td>view</td>\n",
       "      <td>5000088</td>\n",
       "      <td>2053013566100866035</td>\n",
       "      <td>appliances.sewing_machine</td>\n",
       "      <td>janome</td>\n",
       "      <td>293.649994</td>\n",
       "      <td>530496790</td>\n",
       "      <td>8e5f4f83-366c-4f70-860e-ca7417414283</td>\n",
       "    </tr>\n",
       "    <tr>\n",
       "      <th>2</th>\n",
       "      <td>2019-11-01 00:00:01 UTC</td>\n",
       "      <td>view</td>\n",
       "      <td>17302664</td>\n",
       "      <td>2053013553853497655</td>\n",
       "      <td>None</td>\n",
       "      <td>creed</td>\n",
       "      <td>28.309999</td>\n",
       "      <td>561587266</td>\n",
       "      <td>755422e7-9040-477b-9bd2-6a6e8fd97387</td>\n",
       "    </tr>\n",
       "    <tr>\n",
       "      <th>3</th>\n",
       "      <td>2019-11-01 00:00:01 UTC</td>\n",
       "      <td>view</td>\n",
       "      <td>3601530</td>\n",
       "      <td>2053013563810775923</td>\n",
       "      <td>appliances.kitchen.washer</td>\n",
       "      <td>lg</td>\n",
       "      <td>712.869995</td>\n",
       "      <td>518085591</td>\n",
       "      <td>3bfb58cd-7892-48cc-8020-2f17e6de6e7f</td>\n",
       "    </tr>\n",
       "    <tr>\n",
       "      <th>4</th>\n",
       "      <td>2019-11-01 00:00:01 UTC</td>\n",
       "      <td>view</td>\n",
       "      <td>1004775</td>\n",
       "      <td>2053013555631882655</td>\n",
       "      <td>electronics.smartphone</td>\n",
       "      <td>xiaomi</td>\n",
       "      <td>183.270004</td>\n",
       "      <td>558856683</td>\n",
       "      <td>313628f1-68b8-460d-84f6-cec7a8796ef2</td>\n",
       "    </tr>\n",
       "  </tbody>\n",
       "</table>\n",
       "</div>"
      ],
      "text/plain": [
       "                event_time event_type  product_id          category_id  \\\n",
       "0  2019-11-01 00:00:00 UTC       view     1003461  2053013555631882655   \n",
       "1  2019-11-01 00:00:00 UTC       view     5000088  2053013566100866035   \n",
       "2  2019-11-01 00:00:01 UTC       view    17302664  2053013553853497655   \n",
       "3  2019-11-01 00:00:01 UTC       view     3601530  2053013563810775923   \n",
       "4  2019-11-01 00:00:01 UTC       view     1004775  2053013555631882655   \n",
       "\n",
       "               category_code   brand       price    user_id  \\\n",
       "0     electronics.smartphone  xiaomi  489.070007  520088904   \n",
       "1  appliances.sewing_machine  janome  293.649994  530496790   \n",
       "2                       None   creed   28.309999  561587266   \n",
       "3  appliances.kitchen.washer      lg  712.869995  518085591   \n",
       "4     electronics.smartphone  xiaomi  183.270004  558856683   \n",
       "\n",
       "                           user_session  \n",
       "0  4d3b30da-a5e4-49df-b1a8-ba5943f1dd33  \n",
       "1  8e5f4f83-366c-4f70-860e-ca7417414283  \n",
       "2  755422e7-9040-477b-9bd2-6a6e8fd97387  \n",
       "3  3bfb58cd-7892-48cc-8020-2f17e6de6e7f  \n",
       "4  313628f1-68b8-460d-84f6-cec7a8796ef2  "
      ]
     },
     "execution_count": 3,
     "metadata": {},
     "output_type": "execute_result"
    }
   ],
   "source": [
    "df.head()"
   ]
  },
  {
   "cell_type": "code",
   "execution_count": 4,
   "id": "cee47db9",
   "metadata": {},
   "outputs": [
    {
     "data": {
      "text/plain": [
       "(5000000, 9)"
      ]
     },
     "execution_count": 4,
     "metadata": {},
     "output_type": "execute_result"
    }
   ],
   "source": [
    "# Display the shape of the DataFrame to confirm successful loading\n",
    "df.shape"
   ]
  },
  {
   "cell_type": "code",
   "execution_count": 5,
   "id": "0da93007",
   "metadata": {},
   "outputs": [
    {
     "name": "stdout",
     "output_type": "stream",
     "text": [
      "<class 'pandas.core.frame.DataFrame'>\n",
      "RangeIndex: 5000000 entries, 0 to 4999999\n",
      "Data columns (total 9 columns):\n",
      " #   Column         Dtype  \n",
      "---  ------         -----  \n",
      " 0   event_time     object \n",
      " 1   event_type     object \n",
      " 2   product_id     int32  \n",
      " 3   category_id    int64  \n",
      " 4   category_code  object \n",
      " 5   brand          object \n",
      " 6   price          float32\n",
      " 7   user_id        int32  \n",
      " 8   user_session   object \n",
      "dtypes: float32(1), int32(2), int64(1), object(5)\n",
      "memory usage: 286.1+ MB\n"
     ]
    }
   ],
   "source": [
    "df.info()"
   ]
  },
  {
   "cell_type": "markdown",
   "id": "08df5e03",
   "metadata": {},
   "source": [
    "#Cleaning the data"
   ]
  },
  {
   "cell_type": "code",
   "execution_count": 6,
   "id": "1ac3e1cc",
   "metadata": {},
   "outputs": [
    {
     "data": {
      "text/plain": [
       "event_time             0\n",
       "event_type             0\n",
       "product_id             0\n",
       "category_id            0\n",
       "category_code    1602394\n",
       "brand             727867\n",
       "price                  0\n",
       "user_id                0\n",
       "user_session           0\n",
       "dtype: int64"
      ]
     },
     "execution_count": 6,
     "metadata": {},
     "output_type": "execute_result"
    }
   ],
   "source": [
    "# Checking for missing values in the dataset\n",
    "df.isnull().sum()"
   ]
  },
  {
   "cell_type": "code",
   "execution_count": 7,
   "id": "cd3546d0",
   "metadata": {},
   "outputs": [
    {
     "data": {
      "text/plain": [
       "np.float64(32.04788)"
      ]
     },
     "execution_count": 7,
     "metadata": {},
     "output_type": "execute_result"
    }
   ],
   "source": [
    "# Calculating the percentage of missing values in the 'category_code'and 'brand' column\n",
    "df['category_code'].isnull().mean()*100 "
   ]
  },
  {
   "cell_type": "code",
   "execution_count": 8,
   "id": "c26f2e01",
   "metadata": {},
   "outputs": [
    {
     "data": {
      "text/plain": [
       "np.float64(14.55734)"
      ]
     },
     "execution_count": 8,
     "metadata": {},
     "output_type": "execute_result"
    }
   ],
   "source": [
    "# Calculating the percentage of missing values in the 'brand' column\n",
    "df['brand'].isnull().mean() * 100"
   ]
  },
  {
   "cell_type": "code",
   "execution_count": 9,
   "id": "8e23ab7f",
   "metadata": {},
   "outputs": [],
   "source": [
    "for col in ['category_code', 'brand']:\n",
    "    null_ratio = df[col].isna().mean() * 100\n",
    "    if null_ratio < 10:\n",
    "        df[col] = df[col].fillna(\"unknown\")\n",
    "    else:\n",
    "        df.dropna(subset=[col], inplace=True)\n"
   ]
  },
  {
   "cell_type": "code",
   "execution_count": 10,
   "id": "59ccea78",
   "metadata": {},
   "outputs": [
    {
     "data": {
      "text/html": [
       "<div>\n",
       "<style scoped>\n",
       "    .dataframe tbody tr th:only-of-type {\n",
       "        vertical-align: middle;\n",
       "    }\n",
       "\n",
       "    .dataframe tbody tr th {\n",
       "        vertical-align: top;\n",
       "    }\n",
       "\n",
       "    .dataframe thead th {\n",
       "        text-align: right;\n",
       "    }\n",
       "</style>\n",
       "<table border=\"1\" class=\"dataframe\">\n",
       "  <thead>\n",
       "    <tr style=\"text-align: right;\">\n",
       "      <th></th>\n",
       "      <th>event_time</th>\n",
       "      <th>event_type</th>\n",
       "      <th>product_id</th>\n",
       "      <th>category_id</th>\n",
       "      <th>category_code</th>\n",
       "      <th>brand</th>\n",
       "      <th>price</th>\n",
       "      <th>user_id</th>\n",
       "      <th>user_session</th>\n",
       "    </tr>\n",
       "  </thead>\n",
       "  <tbody>\n",
       "    <tr>\n",
       "      <th>0</th>\n",
       "      <td>2019-11-01 00:00:00 UTC</td>\n",
       "      <td>view</td>\n",
       "      <td>1003461</td>\n",
       "      <td>2053013555631882655</td>\n",
       "      <td>electronics.smartphone</td>\n",
       "      <td>xiaomi</td>\n",
       "      <td>489.070007</td>\n",
       "      <td>520088904</td>\n",
       "      <td>4d3b30da-a5e4-49df-b1a8-ba5943f1dd33</td>\n",
       "    </tr>\n",
       "    <tr>\n",
       "      <th>1</th>\n",
       "      <td>2019-11-01 00:00:00 UTC</td>\n",
       "      <td>view</td>\n",
       "      <td>5000088</td>\n",
       "      <td>2053013566100866035</td>\n",
       "      <td>appliances.sewing_machine</td>\n",
       "      <td>janome</td>\n",
       "      <td>293.649994</td>\n",
       "      <td>530496790</td>\n",
       "      <td>8e5f4f83-366c-4f70-860e-ca7417414283</td>\n",
       "    </tr>\n",
       "    <tr>\n",
       "      <th>3</th>\n",
       "      <td>2019-11-01 00:00:01 UTC</td>\n",
       "      <td>view</td>\n",
       "      <td>3601530</td>\n",
       "      <td>2053013563810775923</td>\n",
       "      <td>appliances.kitchen.washer</td>\n",
       "      <td>lg</td>\n",
       "      <td>712.869995</td>\n",
       "      <td>518085591</td>\n",
       "      <td>3bfb58cd-7892-48cc-8020-2f17e6de6e7f</td>\n",
       "    </tr>\n",
       "    <tr>\n",
       "      <th>4</th>\n",
       "      <td>2019-11-01 00:00:01 UTC</td>\n",
       "      <td>view</td>\n",
       "      <td>1004775</td>\n",
       "      <td>2053013555631882655</td>\n",
       "      <td>electronics.smartphone</td>\n",
       "      <td>xiaomi</td>\n",
       "      <td>183.270004</td>\n",
       "      <td>558856683</td>\n",
       "      <td>313628f1-68b8-460d-84f6-cec7a8796ef2</td>\n",
       "    </tr>\n",
       "    <tr>\n",
       "      <th>5</th>\n",
       "      <td>2019-11-01 00:00:01 UTC</td>\n",
       "      <td>view</td>\n",
       "      <td>1306894</td>\n",
       "      <td>2053013558920217191</td>\n",
       "      <td>computers.notebook</td>\n",
       "      <td>hp</td>\n",
       "      <td>360.089996</td>\n",
       "      <td>520772685</td>\n",
       "      <td>816a59f3-f5ae-4ccd-9b23-82aa8c23d33c</td>\n",
       "    </tr>\n",
       "    <tr>\n",
       "      <th>...</th>\n",
       "      <td>...</td>\n",
       "      <td>...</td>\n",
       "      <td>...</td>\n",
       "      <td>...</td>\n",
       "      <td>...</td>\n",
       "      <td>...</td>\n",
       "      <td>...</td>\n",
       "      <td>...</td>\n",
       "      <td>...</td>\n",
       "    </tr>\n",
       "    <tr>\n",
       "      <th>4999993</th>\n",
       "      <td>2019-11-04 07:09:03 UTC</td>\n",
       "      <td>view</td>\n",
       "      <td>1005115</td>\n",
       "      <td>2053013555631882655</td>\n",
       "      <td>electronics.smartphone</td>\n",
       "      <td>apple</td>\n",
       "      <td>921.979980</td>\n",
       "      <td>557459646</td>\n",
       "      <td>f0803979-fca4-41a6-b873-e6aba41ff3b9</td>\n",
       "    </tr>\n",
       "    <tr>\n",
       "      <th>4999994</th>\n",
       "      <td>2019-11-04 07:09:03 UTC</td>\n",
       "      <td>view</td>\n",
       "      <td>1801739</td>\n",
       "      <td>2053013554415534427</td>\n",
       "      <td>electronics.video.tv</td>\n",
       "      <td>samsung</td>\n",
       "      <td>274.399994</td>\n",
       "      <td>552643362</td>\n",
       "      <td>d2ac2a41-eb3d-477e-bba2-17120ebe9e5f</td>\n",
       "    </tr>\n",
       "    <tr>\n",
       "      <th>4999995</th>\n",
       "      <td>2019-11-04 07:09:03 UTC</td>\n",
       "      <td>view</td>\n",
       "      <td>2701880</td>\n",
       "      <td>2053013563911439225</td>\n",
       "      <td>appliances.kitchen.refrigerators</td>\n",
       "      <td>beko</td>\n",
       "      <td>275.700012</td>\n",
       "      <td>516323698</td>\n",
       "      <td>325aec08-0de6-47fa-83ed-a1bfc6deaade</td>\n",
       "    </tr>\n",
       "    <tr>\n",
       "      <th>4999997</th>\n",
       "      <td>2019-11-04 07:09:03 UTC</td>\n",
       "      <td>view</td>\n",
       "      <td>3601290</td>\n",
       "      <td>2053013563810775923</td>\n",
       "      <td>appliances.kitchen.washer</td>\n",
       "      <td>indesit</td>\n",
       "      <td>211.050003</td>\n",
       "      <td>522621981</td>\n",
       "      <td>4b01e5e9-5ae2-4cf9-be33-49a09cd1ddc0</td>\n",
       "    </tr>\n",
       "    <tr>\n",
       "      <th>4999998</th>\n",
       "      <td>2019-11-04 07:09:03 UTC</td>\n",
       "      <td>view</td>\n",
       "      <td>5000691</td>\n",
       "      <td>2053013566100866035</td>\n",
       "      <td>appliances.sewing_machine</td>\n",
       "      <td>chayka</td>\n",
       "      <td>92.309998</td>\n",
       "      <td>514672200</td>\n",
       "      <td>dad7c1ca-8722-4aca-b6c7-b9e1b57307fb</td>\n",
       "    </tr>\n",
       "  </tbody>\n",
       "</table>\n",
       "<p>3397606 rows × 9 columns</p>\n",
       "</div>"
      ],
      "text/plain": [
       "                      event_time event_type  product_id          category_id  \\\n",
       "0        2019-11-01 00:00:00 UTC       view     1003461  2053013555631882655   \n",
       "1        2019-11-01 00:00:00 UTC       view     5000088  2053013566100866035   \n",
       "3        2019-11-01 00:00:01 UTC       view     3601530  2053013563810775923   \n",
       "4        2019-11-01 00:00:01 UTC       view     1004775  2053013555631882655   \n",
       "5        2019-11-01 00:00:01 UTC       view     1306894  2053013558920217191   \n",
       "...                          ...        ...         ...                  ...   \n",
       "4999993  2019-11-04 07:09:03 UTC       view     1005115  2053013555631882655   \n",
       "4999994  2019-11-04 07:09:03 UTC       view     1801739  2053013554415534427   \n",
       "4999995  2019-11-04 07:09:03 UTC       view     2701880  2053013563911439225   \n",
       "4999997  2019-11-04 07:09:03 UTC       view     3601290  2053013563810775923   \n",
       "4999998  2019-11-04 07:09:03 UTC       view     5000691  2053013566100866035   \n",
       "\n",
       "                            category_code    brand       price    user_id  \\\n",
       "0                  electronics.smartphone   xiaomi  489.070007  520088904   \n",
       "1               appliances.sewing_machine   janome  293.649994  530496790   \n",
       "3               appliances.kitchen.washer       lg  712.869995  518085591   \n",
       "4                  electronics.smartphone   xiaomi  183.270004  558856683   \n",
       "5                      computers.notebook       hp  360.089996  520772685   \n",
       "...                                   ...      ...         ...        ...   \n",
       "4999993            electronics.smartphone    apple  921.979980  557459646   \n",
       "4999994              electronics.video.tv  samsung  274.399994  552643362   \n",
       "4999995  appliances.kitchen.refrigerators     beko  275.700012  516323698   \n",
       "4999997         appliances.kitchen.washer  indesit  211.050003  522621981   \n",
       "4999998         appliances.sewing_machine   chayka   92.309998  514672200   \n",
       "\n",
       "                                 user_session  \n",
       "0        4d3b30da-a5e4-49df-b1a8-ba5943f1dd33  \n",
       "1        8e5f4f83-366c-4f70-860e-ca7417414283  \n",
       "3        3bfb58cd-7892-48cc-8020-2f17e6de6e7f  \n",
       "4        313628f1-68b8-460d-84f6-cec7a8796ef2  \n",
       "5        816a59f3-f5ae-4ccd-9b23-82aa8c23d33c  \n",
       "...                                       ...  \n",
       "4999993  f0803979-fca4-41a6-b873-e6aba41ff3b9  \n",
       "4999994  d2ac2a41-eb3d-477e-bba2-17120ebe9e5f  \n",
       "4999995  325aec08-0de6-47fa-83ed-a1bfc6deaade  \n",
       "4999997  4b01e5e9-5ae2-4cf9-be33-49a09cd1ddc0  \n",
       "4999998  dad7c1ca-8722-4aca-b6c7-b9e1b57307fb  \n",
       "\n",
       "[3397606 rows x 9 columns]"
      ]
     },
     "execution_count": 10,
     "metadata": {},
     "output_type": "execute_result"
    }
   ],
   "source": [
    "df"
   ]
  },
  {
   "cell_type": "code",
   "execution_count": 11,
   "id": "6c15f980",
   "metadata": {},
   "outputs": [
    {
     "data": {
      "text/plain": [
       "np.int64(0)"
      ]
     },
     "execution_count": 11,
     "metadata": {},
     "output_type": "execute_result"
    }
   ],
   "source": [
    "# Checking the number of missing values in the 'brand' and 'category_code' column after filling or dropping\n",
    "df[\"brand\"].isnull().sum()"
   ]
  },
  {
   "cell_type": "code",
   "execution_count": 12,
   "id": "f8742918",
   "metadata": {},
   "outputs": [
    {
     "data": {
      "text/plain": [
       "np.int64(0)"
      ]
     },
     "execution_count": 12,
     "metadata": {},
     "output_type": "execute_result"
    }
   ],
   "source": [
    "df[\"category_code\"].isnull().sum()"
   ]
  },
  {
   "cell_type": "code",
   "execution_count": 13,
   "id": "b6111208",
   "metadata": {},
   "outputs": [
    {
     "data": {
      "text/plain": [
       "event_time       0\n",
       "event_type       0\n",
       "product_id       0\n",
       "category_id      0\n",
       "category_code    0\n",
       "brand            0\n",
       "price            0\n",
       "user_id          0\n",
       "user_session     0\n",
       "dtype: int64"
      ]
     },
     "execution_count": 13,
     "metadata": {},
     "output_type": "execute_result"
    }
   ],
   "source": [
    "df.isnull().sum()"
   ]
  },
  {
   "cell_type": "code",
   "execution_count": 14,
   "id": "8a6b733d",
   "metadata": {},
   "outputs": [
    {
     "data": {
      "text/plain": [
       "(3397606, 9)"
      ]
     },
     "execution_count": 14,
     "metadata": {},
     "output_type": "execute_result"
    }
   ],
   "source": [
    "df.shape"
   ]
  },
  {
   "cell_type": "markdown",
   "id": "8e0e9325",
   "metadata": {},
   "source": [
    "#Converting the event_time to Datetime data\n"
   ]
  },
  {
   "cell_type": "code",
   "execution_count": 15,
   "id": "a65b9575",
   "metadata": {},
   "outputs": [],
   "source": [
    "df[\"event_time\"]=pd.to_datetime(df[\"event_time\"], format=\"%Y-%m-%d %H:%M:%S UTC\", errors='coerce')"
   ]
  },
  {
   "cell_type": "code",
   "execution_count": 16,
   "id": "62c7e26e",
   "metadata": {},
   "outputs": [],
   "source": [
    "# Extracting hour from the 'event_time' column(0-23)\n",
    "df['hour'] = df['event_time'].dt.hour\n",
    "# Extracting day from the 'event_time' column(1-31)\n",
    "df['day'] = df['event_time'].dt.day\n",
    "# Extracting day of week from the 'event_time' column(Monday-Sunday)\n",
    "df['day_of_week'] = df['event_time'].dt.day_name()\n",
    "\n",
    "def times_of_day(hour):\n",
    "    if 5<=hour <=12:\n",
    "        return 'morning'\n",
    "    elif 12<= hour <=16:\n",
    "        return 'afternoon'\n",
    "    elif 16<= hour <=19:\n",
    "        return 'evening'\n",
    "    else:\n",
    "        return 'night'\n",
    "# Applying the function to create a new column 'time_of_day'\n",
    "df['time_of_day'] = df['hour'].apply(times_of_day)"
   ]
  },
  {
   "cell_type": "code",
   "execution_count": 17,
   "id": "d165e0d6",
   "metadata": {},
   "outputs": [
    {
     "data": {
      "text/html": [
       "<div>\n",
       "<style scoped>\n",
       "    .dataframe tbody tr th:only-of-type {\n",
       "        vertical-align: middle;\n",
       "    }\n",
       "\n",
       "    .dataframe tbody tr th {\n",
       "        vertical-align: top;\n",
       "    }\n",
       "\n",
       "    .dataframe thead th {\n",
       "        text-align: right;\n",
       "    }\n",
       "</style>\n",
       "<table border=\"1\" class=\"dataframe\">\n",
       "  <thead>\n",
       "    <tr style=\"text-align: right;\">\n",
       "      <th></th>\n",
       "      <th>event_time</th>\n",
       "      <th>event_type</th>\n",
       "      <th>product_id</th>\n",
       "      <th>category_id</th>\n",
       "      <th>category_code</th>\n",
       "      <th>brand</th>\n",
       "      <th>price</th>\n",
       "      <th>user_id</th>\n",
       "      <th>user_session</th>\n",
       "      <th>hour</th>\n",
       "      <th>day</th>\n",
       "      <th>day_of_week</th>\n",
       "      <th>time_of_day</th>\n",
       "    </tr>\n",
       "  </thead>\n",
       "  <tbody>\n",
       "    <tr>\n",
       "      <th>0</th>\n",
       "      <td>2019-11-01 00:00:00</td>\n",
       "      <td>view</td>\n",
       "      <td>1003461</td>\n",
       "      <td>2053013555631882655</td>\n",
       "      <td>electronics.smartphone</td>\n",
       "      <td>xiaomi</td>\n",
       "      <td>489.070007</td>\n",
       "      <td>520088904</td>\n",
       "      <td>4d3b30da-a5e4-49df-b1a8-ba5943f1dd33</td>\n",
       "      <td>0</td>\n",
       "      <td>1</td>\n",
       "      <td>Friday</td>\n",
       "      <td>night</td>\n",
       "    </tr>\n",
       "    <tr>\n",
       "      <th>1</th>\n",
       "      <td>2019-11-01 00:00:00</td>\n",
       "      <td>view</td>\n",
       "      <td>5000088</td>\n",
       "      <td>2053013566100866035</td>\n",
       "      <td>appliances.sewing_machine</td>\n",
       "      <td>janome</td>\n",
       "      <td>293.649994</td>\n",
       "      <td>530496790</td>\n",
       "      <td>8e5f4f83-366c-4f70-860e-ca7417414283</td>\n",
       "      <td>0</td>\n",
       "      <td>1</td>\n",
       "      <td>Friday</td>\n",
       "      <td>night</td>\n",
       "    </tr>\n",
       "    <tr>\n",
       "      <th>3</th>\n",
       "      <td>2019-11-01 00:00:01</td>\n",
       "      <td>view</td>\n",
       "      <td>3601530</td>\n",
       "      <td>2053013563810775923</td>\n",
       "      <td>appliances.kitchen.washer</td>\n",
       "      <td>lg</td>\n",
       "      <td>712.869995</td>\n",
       "      <td>518085591</td>\n",
       "      <td>3bfb58cd-7892-48cc-8020-2f17e6de6e7f</td>\n",
       "      <td>0</td>\n",
       "      <td>1</td>\n",
       "      <td>Friday</td>\n",
       "      <td>night</td>\n",
       "    </tr>\n",
       "    <tr>\n",
       "      <th>4</th>\n",
       "      <td>2019-11-01 00:00:01</td>\n",
       "      <td>view</td>\n",
       "      <td>1004775</td>\n",
       "      <td>2053013555631882655</td>\n",
       "      <td>electronics.smartphone</td>\n",
       "      <td>xiaomi</td>\n",
       "      <td>183.270004</td>\n",
       "      <td>558856683</td>\n",
       "      <td>313628f1-68b8-460d-84f6-cec7a8796ef2</td>\n",
       "      <td>0</td>\n",
       "      <td>1</td>\n",
       "      <td>Friday</td>\n",
       "      <td>night</td>\n",
       "    </tr>\n",
       "    <tr>\n",
       "      <th>5</th>\n",
       "      <td>2019-11-01 00:00:01</td>\n",
       "      <td>view</td>\n",
       "      <td>1306894</td>\n",
       "      <td>2053013558920217191</td>\n",
       "      <td>computers.notebook</td>\n",
       "      <td>hp</td>\n",
       "      <td>360.089996</td>\n",
       "      <td>520772685</td>\n",
       "      <td>816a59f3-f5ae-4ccd-9b23-82aa8c23d33c</td>\n",
       "      <td>0</td>\n",
       "      <td>1</td>\n",
       "      <td>Friday</td>\n",
       "      <td>night</td>\n",
       "    </tr>\n",
       "  </tbody>\n",
       "</table>\n",
       "</div>"
      ],
      "text/plain": [
       "           event_time event_type  product_id          category_id  \\\n",
       "0 2019-11-01 00:00:00       view     1003461  2053013555631882655   \n",
       "1 2019-11-01 00:00:00       view     5000088  2053013566100866035   \n",
       "3 2019-11-01 00:00:01       view     3601530  2053013563810775923   \n",
       "4 2019-11-01 00:00:01       view     1004775  2053013555631882655   \n",
       "5 2019-11-01 00:00:01       view     1306894  2053013558920217191   \n",
       "\n",
       "               category_code   brand       price    user_id  \\\n",
       "0     electronics.smartphone  xiaomi  489.070007  520088904   \n",
       "1  appliances.sewing_machine  janome  293.649994  530496790   \n",
       "3  appliances.kitchen.washer      lg  712.869995  518085591   \n",
       "4     electronics.smartphone  xiaomi  183.270004  558856683   \n",
       "5         computers.notebook      hp  360.089996  520772685   \n",
       "\n",
       "                           user_session  hour  day day_of_week time_of_day  \n",
       "0  4d3b30da-a5e4-49df-b1a8-ba5943f1dd33     0    1      Friday       night  \n",
       "1  8e5f4f83-366c-4f70-860e-ca7417414283     0    1      Friday       night  \n",
       "3  3bfb58cd-7892-48cc-8020-2f17e6de6e7f     0    1      Friday       night  \n",
       "4  313628f1-68b8-460d-84f6-cec7a8796ef2     0    1      Friday       night  \n",
       "5  816a59f3-f5ae-4ccd-9b23-82aa8c23d33c     0    1      Friday       night  "
      ]
     },
     "execution_count": 17,
     "metadata": {},
     "output_type": "execute_result"
    }
   ],
   "source": [
    "# Displaying the first few rows of the DataFrame to verify the new columns\n",
    "df.head()"
   ]
  },
  {
   "cell_type": "markdown",
   "id": "20bde77c",
   "metadata": {},
   "source": [
    "#Top product category"
   ]
  },
  {
   "cell_type": "code",
   "execution_count": 18,
   "id": "a2f84dd6",
   "metadata": {},
   "outputs": [
    {
     "name": "stderr",
     "output_type": "stream",
     "text": [
      "C:\\Users\\Lenovo\\AppData\\Local\\Temp\\ipykernel_9320\\3826131209.py:6: FutureWarning: \n",
      "\n",
      "Passing `palette` without assigning `hue` is deprecated and will be removed in v0.14.0. Assign the `y` variable to `hue` and set `legend=False` for the same effect.\n",
      "\n",
      "  sns.barplot(x=purchase_counts.values, y=purchase_counts.index, palette='viridis')\n"
     ]
    },
    {
     "data": {
      "image/png": "[encoded data removed]",
      "text/plain": [
       "<Figure size 1000x600 with 1 Axes>"
      ]
     },
     "metadata": {},
     "output_type": "display_data"
    }
   ],
   "source": [
    "# Filter for purchase events and count occurrences by category_code\n",
    "purchase_counts = df[df['event_type'] == 'purchase']['category_code'].value_counts().head(10)\n",
    "\n",
    "# Plot the top purchased product categories\n",
    "plt.figure(figsize=(10,6))\n",
    "sns.barplot(x=purchase_counts.values, y=purchase_counts.index, palette='viridis')\n",
    "plt.xlabel('Number of Purchases')\n",
    "plt.ylabel('Product Category')\n",
    "plt.title('Top 10 Most Purchased Product Categories')\n",
    "plt.tight_layout()\n",
    "plt.show()"
   ]
  },
  {
   "cell_type": "markdown",
   "id": "16e40ff7",
   "metadata": {},
   "source": [
    "###Lets see which brand has the most selling smartphone "
   ]
  },
  {
   "cell_type": "code",
   "execution_count": 19,
   "id": "4f672d22",
   "metadata": {},
   "outputs": [
    {
     "name": "stderr",
     "output_type": "stream",
     "text": [
      "C:\\Users\\Lenovo\\AppData\\Local\\Temp\\ipykernel_9320\\4004140150.py:9: FutureWarning: \n",
      "\n",
      "Passing `palette` without assigning `hue` is deprecated and will be removed in v0.14.0. Assign the `y` variable to `hue` and set `legend=False` for the same effect.\n",
      "\n",
      "  sns.barplot(x=brand_counts.values, y=brand_counts.index, palette='mako')\n"
     ]
    },
    {
     "data": {
      "image/png": "[encoded data removed]",
      "text/plain": [
       "<Figure size 1000x600 with 1 Axes>"
      ]
     },
     "metadata": {},
     "output_type": "display_data"
    }
   ],
   "source": [
    "# Filter for purchases in the 'electronics.smartphone' category\n",
    "smartphone_purchases = df[(df['event_type'] == 'purchase') & (df['category_code'] == 'electronics.smartphone')]\n",
    "\n",
    "# Count purchases by brand\n",
    "brand_counts = smartphone_purchases['brand'].value_counts().head(10)\n",
    "\n",
    "# Plot the top purchased smartphone brands\n",
    "plt.figure(figsize=(10,6))\n",
    "sns.barplot(x=brand_counts.values, y=brand_counts.index, palette='mako')\n",
    "plt.xlabel('Number of Purchases')\n",
    "plt.ylabel('Brand')\n",
    "plt.title('Top 10 Most Purchased Smartphone Brands')\n",
    "plt.tight_layout()\n",
    "plt.show()"
   ]
  },
  {
   "cell_type": "markdown",
   "id": "e8953b4b",
   "metadata": {},
   "source": [
    "#Lets see at which time customers buys most product\n"
   ]
  },
  {
   "cell_type": "code",
   "execution_count": 20,
   "id": "89ba5b57",
   "metadata": {},
   "outputs": [
    {
     "name": "stderr",
     "output_type": "stream",
     "text": [
      "C:\\Users\\Lenovo\\AppData\\Local\\Temp\\ipykernel_9320\\250231619.py:6: FutureWarning: \n",
      "\n",
      "Passing `palette` without assigning `hue` is deprecated and will be removed in v0.14.0. Assign the `x` variable to `hue` and set `legend=False` for the same effect.\n",
      "\n",
      "  sns.barplot(x=hourly_sales.index, y=hourly_sales.values, palette='crest')\n"
     ]
    },
    {
     "data": {
      "image/png": "[encoded data removed]",
      "text/plain": [
       "<Figure size 1000x600 with 1 Axes>"
      ]
     },
     "metadata": {},
     "output_type": "display_data"
    }
   ],
   "source": [
    "# Group by 'hour' and count the number of purchase events\n",
    "hourly_sales = df[df['event_type'] == 'purchase']['hour'].value_counts().sort_index()\n",
    "\n",
    "# Plot sales by hour\n",
    "plt.figure(figsize=(10,6))\n",
    "sns.barplot(x=hourly_sales.index, y=hourly_sales.values, palette='crest')\n",
    "plt.xlabel('Hour of Day')\n",
    "plt.ylabel('Number of Purchases')\n",
    "plt.title('Number of Purchases by Hour of Day')\n",
    "plt.tight_layout()\n",
    "plt.show()"
   ]
  },
  {
   "cell_type": "code",
   "execution_count": 21,
   "id": "86ca519a",
   "metadata": {},
   "outputs": [
    {
     "name": "stderr",
     "output_type": "stream",
     "text": [
      "C:\\Users\\Lenovo\\AppData\\Local\\Temp\\ipykernel_9320\\287847805.py:4: FutureWarning: \n",
      "\n",
      "Passing `palette` without assigning `hue` is deprecated and will be removed in v0.14.0. Assign the `x` variable to `hue` and set `legend=False` for the same effect.\n",
      "\n",
      "  sns.barplot(x=hourly_view.index, y=hourly_view.values, palette='crest')\n"
     ]
    },
    {
     "data": {
      "image/png": "[encoded data removed]",
      "text/plain": [
       "<Figure size 1000x600 with 1 Axes>"
      ]
     },
     "metadata": {},
     "output_type": "display_data"
    }
   ],
   "source": [
    "hourly_view= df[df['event_type'] == 'view']['hour'].value_counts().sort_index()\n",
    "# Plot views by hour\n",
    "plt.figure(figsize=(10,6))\n",
    "sns.barplot(x=hourly_view.index, y=hourly_view.values, palette='crest')\n",
    "plt.xlabel('Hour of Day')       \n",
    "plt.ylabel('Number of Views')\n",
    "plt.title('Number of Views by Hour of Day')\n",
    "plt.tight_layout()\n",
    "plt.show()\n"
   ]
  },
  {
   "cell_type": "code",
   "execution_count": 22,
   "id": "f4e5ce97",
   "metadata": {},
   "outputs": [
    {
     "name": "stderr",
     "output_type": "stream",
     "text": [
      "C:\\Users\\Lenovo\\AppData\\Local\\Temp\\ipykernel_9320\\3395226965.py:3: FutureWarning: \n",
      "\n",
      "Passing `palette` without assigning `hue` is deprecated and will be removed in v0.14.0. Assign the `x` variable to `hue` and set `legend=False` for the same effect.\n",
      "\n",
      "  sns.barplot(x=item_added_cart.values, y=item_added_cart.index, palette='crest')\n"
     ]
    },
    {
     "data": {
      "image/png": "[encoded data removed]",
      "text/plain": [
       "<Figure size 1000x600 with 1 Axes>"
      ]
     },
     "metadata": {},
     "output_type": "display_data"
    }
   ],
   "source": [
    "item_added_cart=df[df['event_type'] == 'cart']['hour'].value_counts().head(10)\n",
    "plt.figure(figsize=(10,6))\n",
    "sns.barplot(x=item_added_cart.values, y=item_added_cart.index, palette='crest')\n",
    "plt.xlabel('Number of Items Added to Cart')\n",
    "plt.ylabel('Item')\n",
    "plt.title('Top 10 Most Added to Cart Items')\n",
    "plt.tight_layout()\n",
    "plt.show()\n",
    "\n",
    "\n"
   ]
  },
  {
   "cell_type": "markdown",
   "id": "807584b1",
   "metadata": {},
   "source": [
    "###Finding out each customer RFM values"
   ]
  },
  {
   "cell_type": "code",
   "execution_count": 23,
   "id": "0d9028bf",
   "metadata": {},
   "outputs": [
    {
     "data": {
      "text/html": [
       "<div>\n",
       "<style scoped>\n",
       "    .dataframe tbody tr th:only-of-type {\n",
       "        vertical-align: middle;\n",
       "    }\n",
       "\n",
       "    .dataframe tbody tr th {\n",
       "        vertical-align: top;\n",
       "    }\n",
       "\n",
       "    .dataframe thead th {\n",
       "        text-align: right;\n",
       "    }\n",
       "</style>\n",
       "<table border=\"1\" class=\"dataframe\">\n",
       "  <thead>\n",
       "    <tr style=\"text-align: right;\">\n",
       "      <th></th>\n",
       "      <th>event_time</th>\n",
       "      <th>event_type</th>\n",
       "      <th>product_id</th>\n",
       "      <th>category_id</th>\n",
       "      <th>category_code</th>\n",
       "      <th>brand</th>\n",
       "      <th>price</th>\n",
       "      <th>user_id</th>\n",
       "      <th>user_session</th>\n",
       "      <th>hour</th>\n",
       "      <th>day</th>\n",
       "      <th>day_of_week</th>\n",
       "      <th>time_of_day</th>\n",
       "    </tr>\n",
       "  </thead>\n",
       "  <tbody>\n",
       "    <tr>\n",
       "      <th>4999993</th>\n",
       "      <td>2019-11-04 07:09:03</td>\n",
       "      <td>view</td>\n",
       "      <td>1005115</td>\n",
       "      <td>2053013555631882655</td>\n",
       "      <td>electronics.smartphone</td>\n",
       "      <td>apple</td>\n",
       "      <td>921.979980</td>\n",
       "      <td>557459646</td>\n",
       "      <td>f0803979-fca4-41a6-b873-e6aba41ff3b9</td>\n",
       "      <td>7</td>\n",
       "      <td>4</td>\n",
       "      <td>Monday</td>\n",
       "      <td>morning</td>\n",
       "    </tr>\n",
       "    <tr>\n",
       "      <th>4999994</th>\n",
       "      <td>2019-11-04 07:09:03</td>\n",
       "      <td>view</td>\n",
       "      <td>1801739</td>\n",
       "      <td>2053013554415534427</td>\n",
       "      <td>electronics.video.tv</td>\n",
       "      <td>samsung</td>\n",
       "      <td>274.399994</td>\n",
       "      <td>552643362</td>\n",
       "      <td>d2ac2a41-eb3d-477e-bba2-17120ebe9e5f</td>\n",
       "      <td>7</td>\n",
       "      <td>4</td>\n",
       "      <td>Monday</td>\n",
       "      <td>morning</td>\n",
       "    </tr>\n",
       "    <tr>\n",
       "      <th>4999995</th>\n",
       "      <td>2019-11-04 07:09:03</td>\n",
       "      <td>view</td>\n",
       "      <td>2701880</td>\n",
       "      <td>2053013563911439225</td>\n",
       "      <td>appliances.kitchen.refrigerators</td>\n",
       "      <td>beko</td>\n",
       "      <td>275.700012</td>\n",
       "      <td>516323698</td>\n",
       "      <td>325aec08-0de6-47fa-83ed-a1bfc6deaade</td>\n",
       "      <td>7</td>\n",
       "      <td>4</td>\n",
       "      <td>Monday</td>\n",
       "      <td>morning</td>\n",
       "    </tr>\n",
       "    <tr>\n",
       "      <th>4999997</th>\n",
       "      <td>2019-11-04 07:09:03</td>\n",
       "      <td>view</td>\n",
       "      <td>3601290</td>\n",
       "      <td>2053013563810775923</td>\n",
       "      <td>appliances.kitchen.washer</td>\n",
       "      <td>indesit</td>\n",
       "      <td>211.050003</td>\n",
       "      <td>522621981</td>\n",
       "      <td>4b01e5e9-5ae2-4cf9-be33-49a09cd1ddc0</td>\n",
       "      <td>7</td>\n",
       "      <td>4</td>\n",
       "      <td>Monday</td>\n",
       "      <td>morning</td>\n",
       "    </tr>\n",
       "    <tr>\n",
       "      <th>4999998</th>\n",
       "      <td>2019-11-04 07:09:03</td>\n",
       "      <td>view</td>\n",
       "      <td>5000691</td>\n",
       "      <td>2053013566100866035</td>\n",
       "      <td>appliances.sewing_machine</td>\n",
       "      <td>chayka</td>\n",
       "      <td>92.309998</td>\n",
       "      <td>514672200</td>\n",
       "      <td>dad7c1ca-8722-4aca-b6c7-b9e1b57307fb</td>\n",
       "      <td>7</td>\n",
       "      <td>4</td>\n",
       "      <td>Monday</td>\n",
       "      <td>morning</td>\n",
       "    </tr>\n",
       "  </tbody>\n",
       "</table>\n",
       "</div>"
      ],
      "text/plain": [
       "                 event_time event_type  product_id          category_id  \\\n",
       "4999993 2019-11-04 07:09:03       view     1005115  2053013555631882655   \n",
       "4999994 2019-11-04 07:09:03       view     1801739  2053013554415534427   \n",
       "4999995 2019-11-04 07:09:03       view     2701880  2053013563911439225   \n",
       "4999997 2019-11-04 07:09:03       view     3601290  2053013563810775923   \n",
       "4999998 2019-11-04 07:09:03       view     5000691  2053013566100866035   \n",
       "\n",
       "                            category_code    brand       price    user_id  \\\n",
       "4999993            electronics.smartphone    apple  921.979980  557459646   \n",
       "4999994              electronics.video.tv  samsung  274.399994  552643362   \n",
       "4999995  appliances.kitchen.refrigerators     beko  275.700012  516323698   \n",
       "4999997         appliances.kitchen.washer  indesit  211.050003  522621981   \n",
       "4999998         appliances.sewing_machine   chayka   92.309998  514672200   \n",
       "\n",
       "                                 user_session  hour  day day_of_week  \\\n",
       "4999993  f0803979-fca4-41a6-b873-e6aba41ff3b9     7    4      Monday   \n",
       "4999994  d2ac2a41-eb3d-477e-bba2-17120ebe9e5f     7    4      Monday   \n",
       "4999995  325aec08-0de6-47fa-83ed-a1bfc6deaade     7    4      Monday   \n",
       "4999997  4b01e5e9-5ae2-4cf9-be33-49a09cd1ddc0     7    4      Monday   \n",
       "4999998  dad7c1ca-8722-4aca-b6c7-b9e1b57307fb     7    4      Monday   \n",
       "\n",
       "        time_of_day  \n",
       "4999993     morning  \n",
       "4999994     morning  \n",
       "4999995     morning  \n",
       "4999997     morning  \n",
       "4999998     morning  "
      ]
     },
     "execution_count": 23,
     "metadata": {},
     "output_type": "execute_result"
    }
   ],
   "source": [
    "df.tail()"
   ]
  },
  {
   "cell_type": "code",
   "execution_count": 24,
   "id": "c3182ca1",
   "metadata": {},
   "outputs": [
    {
     "data": {
      "text/plain": [
       "user_id\n",
       "356520186    3\n",
       "428293417    1\n",
       "447698613    1\n",
       "460752410    0\n",
       "467047496    0\n",
       "Name: event_time, dtype: int64"
      ]
     },
     "execution_count": 24,
     "metadata": {},
     "output_type": "execute_result"
    }
   ],
   "source": [
    "#lets calculate the recency\n",
    "# Recency: days since last purchase for each user\n",
    "latest_date = df['event_time'].max()\n",
    "recency = df[df['event_type'] == 'purchase'].groupby('user_id')['event_time'].max()\n",
    "recency = (latest_date - recency).dt.days\n",
    "recency.head()"
   ]
  },
  {
   "cell_type": "code",
   "execution_count": 29,
   "id": "fc664561",
   "metadata": {},
   "outputs": [
    {
     "data": {
      "text/plain": [
       "user_id\n",
       "356520186    10\n",
       "428293417     5\n",
       "447698613     3\n",
       "460752410     6\n",
       "467047496     5\n",
       "dtype: int64"
      ]
     },
     "execution_count": 29,
     "metadata": {},
     "output_type": "execute_result"
    }
   ],
   "source": [
    "#Now lets calculate the frequency\n",
    "# Frequency: number of purchases in the last 30 days for each user\n",
    "frequency = df.drop_duplicates(subset=['user_id', 'event_time']).groupby('user_id').size()\n",
    "frequency = frequency[frequency.index.isin(recency.index)]  # Ensure frequency matches recency    \n",
    "frequency.head()"
   ]
  },
  {
   "cell_type": "code",
   "execution_count": 30,
   "id": "ec0c26ef",
   "metadata": {},
   "outputs": [
    {
     "data": {
      "text/plain": [
       "user_id\n",
       "356520186      33.450001\n",
       "428293417    1575.500000\n",
       "447698613     282.859985\n",
       "460752410     921.979980\n",
       "467047496     396.149994\n",
       "Name: price, dtype: float32"
      ]
     },
     "execution_count": 30,
     "metadata": {},
     "output_type": "execute_result"
    }
   ],
   "source": [
    "#monetary value: total amount spent by each user in the last 30 days\n",
    "monetary = df[df['event_type'] == 'purchase'].groupby('user_id')['price'].sum()\n",
    "monetary = monetary[monetary.index.isin(recency.index)]  # Ensure monetary matches recency\n",
    "monetary.head()"
   ]
  },
  {
   "cell_type": "code",
   "execution_count": 31,
   "id": "982d1711",
   "metadata": {},
   "outputs": [
    {
     "data": {
      "text/html": [
       "<div>\n",
       "<style scoped>\n",
       "    .dataframe tbody tr th:only-of-type {\n",
       "        vertical-align: middle;\n",
       "    }\n",
       "\n",
       "    .dataframe tbody tr th {\n",
       "        vertical-align: top;\n",
       "    }\n",
       "\n",
       "    .dataframe thead th {\n",
       "        text-align: right;\n",
       "    }\n",
       "</style>\n",
       "<table border=\"1\" class=\"dataframe\">\n",
       "  <thead>\n",
       "    <tr style=\"text-align: right;\">\n",
       "      <th></th>\n",
       "      <th>monetary</th>\n",
       "      <th>medal</th>\n",
       "    </tr>\n",
       "    <tr>\n",
       "      <th>user_id</th>\n",
       "      <th></th>\n",
       "      <th></th>\n",
       "    </tr>\n",
       "  </thead>\n",
       "  <tbody>\n",
       "    <tr>\n",
       "      <th>356520186</th>\n",
       "      <td>33.450001</td>\n",
       "      <td>no medal</td>\n",
       "    </tr>\n",
       "    <tr>\n",
       "      <th>428293417</th>\n",
       "      <td>1575.500000</td>\n",
       "      <td>silver</td>\n",
       "    </tr>\n",
       "    <tr>\n",
       "      <th>447698613</th>\n",
       "      <td>282.859985</td>\n",
       "      <td>no medal</td>\n",
       "    </tr>\n",
       "    <tr>\n",
       "      <th>460752410</th>\n",
       "      <td>921.979980</td>\n",
       "      <td>bronze</td>\n",
       "    </tr>\n",
       "    <tr>\n",
       "      <th>467047496</th>\n",
       "      <td>396.149994</td>\n",
       "      <td>no medal</td>\n",
       "    </tr>\n",
       "  </tbody>\n",
       "</table>\n",
       "</div>"
      ],
      "text/plain": [
       "              monetary     medal\n",
       "user_id                         \n",
       "356520186    33.450001  no medal\n",
       "428293417  1575.500000    silver\n",
       "447698613   282.859985  no medal\n",
       "460752410   921.979980    bronze\n",
       "467047496   396.149994  no medal"
      ]
     },
     "execution_count": 31,
     "metadata": {},
     "output_type": "execute_result"
    }
   ],
   "source": [
    "# Createing a medal system based on monetary value\n",
    "\n",
    "rfm = pd.DataFrame({'monetary': monetary})\n",
    "\n",
    "def assign_medal(amount):\n",
    "    if amount > 5000:\n",
    "        return 'gold'\n",
    "    elif amount > 1000:\n",
    "        return 'silver'\n",
    "    elif amount > 500:\n",
    "        return 'bronze'\n",
    "    else:\n",
    "        return 'no medal'\n",
    "\n",
    "rfm['medal'] = rfm['monetary'].apply(assign_medal)\n",
    "rfm.head()"
   ]
  },
  {
   "cell_type": "markdown",
   "id": "f8bd200b",
   "metadata": {},
   "source": [
    "\n",
    "##  Conclusion\n",
    "\n",
    "This analysis of 5 million rows of e-commerce data provided valuable insights into customer behavior. Here's what we learned:\n",
    "\n",
    "-  **Smartphones and electronics** are among the most purchased items.\n",
    "-  **Purchases peak during the evening and late afternoon**, indicating high engagement post-work hours.\n",
    "-  **Cart additions** are most frequent around mid-day, hinting at lunchtime browsing behavior.\n",
    "-  **RFM analysis** allowed segmentation of users by value, revealing that only a few high-value users qualify for a 'gold' or 'silver' tier.\n",
    "\n"
   ]
  }
 ],
 "metadata": {
  "kernelspec": {
   "display_name": "myenv",
   "language": "python",
   "name": "python3"
  },
  "language_info": {
   "codemirror_mode": {
    "name": "ipython",
    "version": 3
   },
   "file_extension": ".py",
   "mimetype": "text/x-python",
   "name": "python",
   "nbconvert_exporter": "python",
   "pygments_lexer": "ipython3",
   "version": "3.13.3"
  }
 },
 "nbformat": 4,
 "nbformat_minor": 5
}
